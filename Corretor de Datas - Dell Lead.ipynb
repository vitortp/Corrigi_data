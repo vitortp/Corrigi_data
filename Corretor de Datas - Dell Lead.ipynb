{
 "cells": [
  {
   "cell_type": "code",
   "execution_count": 1,
   "id": "07dff510",
   "metadata": {},
   "outputs": [],
   "source": [
    "from datetime import date, datetime, timedelta\n",
    "import locale\n",
    "locale.setlocale(locale.LC_ALL, 'pt_BR')\n",
    "import itertools\n",
    "import re"
   ]
  },
  {
   "cell_type": "code",
   "execution_count": 2,
   "id": "3d830548",
   "metadata": {},
   "outputs": [],
   "source": [
    "aniversarios = ['01/02/1990', '22 de Maio de 1991', '04/Abr/1995', '1995-Outubro-10', '12 Julho 1989',\n",
    "                '16 de Junho de 1987', '04/07/1990']\n",
    "\n",
    "formatos = [list(itertools.permutations(['%d', '%b','%B', '%m', '%y', '%Y',], 3))]\n"
   ]
  },
  {
   "cell_type": "code",
   "execution_count": 3,
   "id": "89fd8aa1",
   "metadata": {},
   "outputs": [
    {
     "name": "stdout",
     "output_type": "stream",
     "text": [
      "['01/02/1990', '22/maio/1991', '04/abr/1995', '1995/outubro/10', '12/julho/1989', '16/junho/1987', '04/07/1990']\n"
     ]
    }
   ],
   "source": [
    "data_formatada = []\n",
    "for x in aniversarios:\n",
    "    data_formatada.append(x.lower().replace(\"de\",\"/\").replace(\" \", \"/\").replace(\"//\", \"\").replace(\"-\", \"/\"))\n",
    "print(data_formatada)"
   ]
  },
  {
   "cell_type": "code",
   "execution_count": 26,
   "id": "e48ad959",
   "metadata": {},
   "outputs": [],
   "source": [
    "def muda_data(dia):\n",
    "    \n",
    "    if re.findall('[0-9]*/[0-9]*/[0-9]{4}', dia) == [dia]:\n",
    "        b = datetime.strptime(dia, '%d/%m/%Y')\n",
    "        da = b.day\n",
    "        mes = b.month\n",
    "        mes_str = b.strftime('%B')\n",
    "        ano = b.year\n",
    "        sem = b.strftime('%A')\n",
    "        \n",
    "            \n",
    "    elif re.findall('[0-9]{2}/[a-z]{4}/[0-9]{4}', dia) == [dia]:    \n",
    "        b = datetime.strptime(dia, '%d/%B/%Y')\n",
    "        da = b.day\n",
    "        mes = b.month\n",
    "        mes_str = b.strftime('%B')\n",
    "        ano = b.year\n",
    "        sem = b.strftime('%A')\n",
    "            \n",
    "    elif re.findall('[0-9]{2}/[a-z]{3}/[0-9]{4}', dia) == [dia]:    \n",
    "        b = datetime.strptime(dia, '%d/%b/%Y')\n",
    "        da = b.day\n",
    "        mes = b.month\n",
    "        mes_str = b.strftime('%B')\n",
    "        ano = b.year\n",
    "        sem = b.strftime('%A')\n",
    "                \n",
    "    elif re.findall('[0-9]{2}/[a-z]{4}[a-z]*/[0-9]{4}', dia) == [dia]:    \n",
    "        b = datetime.strptime(dia, '%d/%B/%Y')\n",
    "        da = b.day\n",
    "        mes = b.month\n",
    "        mes_str = b.strftime('%B')\n",
    "        ano = b.year\n",
    "        sem = b.strftime('%A')\n",
    "            \n",
    "    elif re.findall('[0-9]{4}/[a-z]{4}[a-z]*/[0-9]{2}', dia) == [dia]:    \n",
    "        b = datetime.strptime(dia, '%Y/%B/%d')\n",
    "        da = b.day\n",
    "        mes = b.month\n",
    "        mes_str = b.strftime('%B')\n",
    "        ano = b.year\n",
    "        sem = b.strftime('%A')\n",
    "            \n",
    "    else:\n",
    "        print('Algo inesperado aconteceu')\n",
    "    lista = (b.date())\n",
    "    hoje = datetime.now().date()\n",
    "    try:\n",
    "        if da == hoje.day and mes == hoje.month and ano == hoje.year:\n",
    "            print(f'Hoje, {sem}, {da} de {mes_str} de {ano}, tem aniversário! Parabéns!!')\n",
    "    except:\n",
    "        pass\n",
    "    print(lista)      "
   ]
  },
  {
   "cell_type": "code",
   "execution_count": 27,
   "id": "26f3cb1b",
   "metadata": {},
   "outputs": [
    {
     "name": "stdout",
     "output_type": "stream",
     "text": [
      "2022-05-09\n"
     ]
    }
   ],
   "source": [
    "muda_data('9/5/2022')"
   ]
  },
  {
   "cell_type": "code",
   "execution_count": 6,
   "id": "3a44349e",
   "metadata": {},
   "outputs": [
    {
     "name": "stdout",
     "output_type": "stream",
     "text": [
      "1990-02-01\n",
      "1991-05-22\n",
      "1995-04-04\n",
      "1995-10-10\n",
      "1989-07-12\n",
      "1987-06-16\n",
      "1990-07-04\n",
      "<class 'list'>\n"
     ]
    }
   ],
   "source": [
    "data_dt = []\n",
    "for x in data_formatada:\n",
    "    a = muda_data(x)\n",
    "    data_dt.append(a)\n",
    "limpo = data_dt[:7]\n",
    "print(type(data_dt))"
   ]
  },
  {
   "cell_type": "code",
   "execution_count": null,
   "id": "86f1a5a5",
   "metadata": {},
   "outputs": [],
   "source": []
  }
 ],
 "metadata": {
  "kernelspec": {
   "display_name": "Python 3 (ipykernel)",
   "language": "python",
   "name": "python3"
  },
  "language_info": {
   "codemirror_mode": {
    "name": "ipython",
    "version": 3
   },
   "file_extension": ".py",
   "mimetype": "text/x-python",
   "name": "python",
   "nbconvert_exporter": "python",
   "pygments_lexer": "ipython3",
   "version": "3.9.7"
  }
 },
 "nbformat": 4,
 "nbformat_minor": 5
}
